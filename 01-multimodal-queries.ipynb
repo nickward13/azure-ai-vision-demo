{
 "cells": [
  {
   "cell_type": "markdown",
   "metadata": {},
   "source": [
    "# Azure AI GPT-4 with Vision demo\n",
    "This demo shows various examples of using GPT-4 with vision.\n",
    "\n",
    "First, let's set up the environment for connecting to GPT-4 in the Azure Open AI Service by getting the key and endpoint from environment variables and creating an OpenAIClient."
   ]
  },
  {
   "cell_type": "code",
   "execution_count": 1,
   "metadata": {
    "dotnet_interactive": {
     "language": "csharp"
    },
    "polyglot_notebook": {
     "kernelName": "csharp"
    },
    "vscode": {
     "languageId": "polyglot-notebook"
    }
   },
   "outputs": [
    {
     "data": {
      "text/html": [
       "<div><div></div><div></div><div><strong>Installed Packages</strong><ul><li><span>XPlot.Plotly, 4.0.6</span></li></ul></div></div>"
      ]
     },
     "metadata": {},
     "output_type": "display_data"
    },
    {
     "name": "stdout",
     "output_type": "stream",
     "text": [
      "Created client for https://nickward-ai-westus-aiservices-1088222743.openai.azure.com/openai/deployments/gpt-4/chat/completions?api-version=2023-07-01-preview\r\n"
     ]
    }
   ],
   "source": [
    "using System;\n",
    "using System.IO;\n",
    "using System.Text;\n",
    "using System.Net.Http;\n",
    "using System.Threading.Tasks;\n",
    "using Newtonsoft.Json;\n",
    "\n",
    "public static string Gpt4Key = System.Environment.GetEnvironmentVariable(\"Gpt4Key\");\n",
    "public static string Gpt4Endpoint = System.Environment.GetEnvironmentVariable(\"Gpt4Endpoint\");\n",
    "\n",
    "public static HttpClient httpClient = new System.Net.Http.HttpClient();\n",
    "httpClient.DefaultRequestHeaders.Add(\"api-key\", Gpt4Key);\n",
    "\n",
    "Console.WriteLine($\"Created client for {Gpt4Endpoint}\");"
   ]
  },
  {
   "cell_type": "markdown",
   "metadata": {},
   "source": [
    "### Create a re-usable class to prompt GPT-4 with a prompt and an image path"
   ]
  },
  {
   "cell_type": "code",
   "execution_count": 2,
   "metadata": {
    "dotnet_interactive": {
     "language": "csharp"
    },
    "polyglot_notebook": {
     "kernelName": "csharp"
    },
    "vscode": {
     "languageId": "polyglot-notebook"
    }
   },
   "outputs": [],
   "source": [
    "public static async Task<string> PromptGptWithImageAsync(string prompt, string imagePath)\n",
    "{\n",
    "    string systemMessage = \"You are a helpful assistant.\";\n",
    "    float temperature = 0.7f;\n",
    "    float top_p = 0.95f;\n",
    "    int max_tokens = 800;\n",
    "    bool stream = false;\n",
    "\n",
    "    string encodedImage = Convert.ToBase64String(File.ReadAllBytes(imagePath));\n",
    "\n",
    "    var payload = new\n",
    "    {\n",
    "        messages = new object[] {\n",
    "            new { role = \"system\", content = new object[] {\n",
    "                new {\n",
    "                    type = \"text\",\n",
    "                    text = systemMessage\n",
    "                }\n",
    "            } },\n",
    "            new { role = \"user\", content = new object[] {\n",
    "                new {\n",
    "                    type = \"image_url\",\n",
    "                    image_url = new {\n",
    "                        url = $\"data:image/jpeg;base64,{encodedImage}\"\n",
    "                    }\n",
    "                },\n",
    "                new {\n",
    "                    type = \"text\",\n",
    "                    text = prompt\n",
    "                }\n",
    "            } }\n",
    "        },\n",
    "        temperature = temperature,\n",
    "        top_p = top_p,\n",
    "        max_tokens = max_tokens,\n",
    "        stream = stream\n",
    "    };\n",
    "\n",
    "    var response = await httpClient.PostAsync(Gpt4Endpoint, new StringContent(JsonConvert.SerializeObject(payload), System.Text.Encoding.UTF8, \"application/json\"));\n",
    "    if (response.IsSuccessStatusCode)\n",
    "    {\n",
    "        var responseData = JsonConvert.DeserializeObject<dynamic>(await response.Content.ReadAsStringAsync());\n",
    "        return responseData.choices[0].message.content;\n",
    "    }\n",
    "    else\n",
    "    {\n",
    "        return $\"Error: {response.StatusCode}, {response.ReasonPhrase}\";\n",
    "    }\n",
    "}"
   ]
  },
  {
   "cell_type": "markdown",
   "metadata": {},
   "source": [
    "## Demo 1 - generate holiday accommodation copy\n",
    "\n",
    "Ask GPT4 to look at an image of a holiday rental house and provide a listing title and description for a rental advertisement."
   ]
  },
  {
   "cell_type": "code",
   "execution_count": 26,
   "metadata": {
    "dotnet_interactive": {
     "language": "csharp"
    },
    "polyglot_notebook": {
     "kernelName": "csharp"
    },
    "vscode": {
     "languageId": "polyglot-notebook"
    }
   },
   "outputs": [
    {
     "name": "stdout",
     "output_type": "stream",
     "text": [
      "Title: \"Cozy Winter Retreat Amidst the Whispers of the Pines\"\n",
      "\n",
      "Nestled in a serene snow-covered landscape, this charming log cabin offers a perfect escape into the heart of nature. As dusk falls, the warm glow from the windows creates an inviting atmosphere, promising a cozy haven from the frosty outdoors. The spacious wrap-around deck, adorned with a blanket of snow, awaits your morning coffee or evening stargazing. Inside, the rustic decor and crackling fireplace set the stage for memorable moments with loved ones. Just steps away from the tranquility of the surrounding forest, this cabin is your gateway to a winter wonderland. Book your stay and indulge in the peaceful solitude that this enchanting woodland abode has to offer.\r\n"
     ]
    }
   ],
   "source": [
    "string imagePath = \"01-log-cabin.jpg\";\n",
    "\n",
    "display(HTML($@\"<img src='{imagePath}' />\"));\n",
    "\n",
    "Console.WriteLine(\n",
    "    await PromptGptWithImageAsync(\n",
    "        prompt: @\"You are an Al assistant which generates listings for vacation rentals. \n",
    "Generate exciting content for this image but don't talk about content that you cannot see. \n",
    "Follow the format of an attention grabbing title and provide a description that is only 6 sentences long.\", \n",
    "        imagePath: imagePath\n",
    "        )\n",
    "    );"
   ]
  },
  {
   "cell_type": "markdown",
   "metadata": {},
   "source": [
    "## Demo 2 - analyse disaster scene\n",
    "\n",
    "Ask GPT4 to figure out what is going on in a scene and what should be done."
   ]
  },
  {
   "cell_type": "code",
   "execution_count": 7,
   "metadata": {
    "dotnet_interactive": {
     "language": "csharp"
    },
    "polyglot_notebook": {
     "kernelName": "csharp"
    },
    "vscode": {
     "languageId": "polyglot-notebook"
    }
   },
   "outputs": [
    {
     "data": {
      "text/html": [
       "<img src='02-flooded-house.jpg' />"
      ]
     },
     "metadata": {},
     "output_type": "display_data"
    },
    {
     "name": "stdout",
     "output_type": "stream",
     "text": [
      "The image shows a house that is experiencing flooding, with water reaching a significant height against the building's exterior. It's a serious situation that can pose risks to the occupants' safety and property.\n",
      "\n",
      "If this is a current and local situation, and if it's not already known to the authorities, it would be advisable to alert them. Emergency services or local disaster response teams should be notified so they can provide necessary assistance or evacuate the residents if needed.\r\n"
     ]
    }
   ],
   "source": [
    "string imagePath = \"02-flooded-house.jpg\";\n",
    "\n",
    "display(HTML($@\"<img src='{imagePath}' />\"));\n",
    "\n",
    "Console.WriteLine(\n",
    "    await PromptGptWithImageAsync(\n",
    "        prompt: \"What is going on in this image? Should I alert the authorities?\", \n",
    "        imagePath: imagePath\n",
    "        )\n",
    "    );"
   ]
  },
  {
   "cell_type": "code",
   "execution_count": 6,
   "metadata": {
    "dotnet_interactive": {
     "language": "csharp"
    },
    "polyglot_notebook": {
     "kernelName": "csharp"
    },
    "vscode": {
     "languageId": "polyglot-notebook"
    }
   },
   "outputs": [
    {
     "name": "stdout",
     "output_type": "stream",
     "text": [
      "The water surrounding the house appears to be the result of flooding. Flooding can occur due to various reasons such as heavy rains, overflow of rivers, storm surges, or melting snow. It is not clear from the image what the specific cause of this flooding is, but it is likely due to one of these natural events leading to the accumulation of water around the property.\r\n"
     ]
    }
   ],
   "source": [
    "Console.WriteLine(\n",
    "    await PromptGptWithImageAsync(\n",
    "        prompt: \"Where is the water coming from?\", \n",
    "        imagePath: imagePath\n",
    "        )\n",
    "    );"
   ]
  }
 ],
 "metadata": {
  "language_info": {
   "name": "python"
  }
 },
 "nbformat": 4,
 "nbformat_minor": 2
}
